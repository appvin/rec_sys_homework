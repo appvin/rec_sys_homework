{
 "metadata": {
  "name": "",
  "signature": "sha256:dd868b306836a07b32bf9b232e2357f5fb884685e19cc500e3457d294a996ec0"
 },
 "nbformat": 3,
 "nbformat_minor": 0,
 "worksheets": [
  {
   "cells": [
    {
     "cell_type": "code",
     "collapsed": false,
     "input": [
      "import math\n",
      "import random\n",
      "import pandas as pd\n",
      "from scipy.sparse import csr_matrix\n",
      "\n",
      "#u,i,rui,pui\n",
      "def RMSE(records):\n",
      "    rui=records[2]   \n",
      "    pui=records[3]\n",
      "    return math.sqrt(sum((rui-pui).dot(rui-pui))/float(len(records)))\n",
      "\n",
      "def InitBiasLFM(train,F):\n",
      "    p=dict()\n",
      "    q=dict()\n",
      "    bu=dict()\n",
      "    bi=dict()\n",
      "    mu=mean(train[2])\n",
      "    for index,row in train.iterrows():\n",
      "        u=row[0]\n",
      "        i=row[1]\n",
      "        bu[u]=0\n",
      "        bi[i]=0\n",
      "        if u not in p:\n",
      "            p[u]=[random.random()/math.sqrt(F) for x in range(0,F)]\n",
      "        if i not in q:\n",
      "            q[i]=[random.random()/math.sqrt(F) for x in range(0,F)]\n",
      "    return [p,q,bu,bi,mu]\n",
      "\n",
      "def Predict(u,i,p,q,bu,bi,mu):\n",
      "    if u not in p:\n",
      "        print(['lost u',u])\n",
      "        return mu\n",
      "    if i not in q:\n",
      "        print(['lost i',i])\n",
      "        return mu\n",
      "    ret=mu+bu[u]+bi[i]\n",
      "    ret+=sum(p[u][f]*q[i][f] for f in range(0,len(p[u])))\n",
      "    return ret\n",
      "\n",
      "def LearningBiasLFM(train,F,n,alpha,lamda):\n",
      "    [p,q,bu,bi,mu]=InitBiasLFM(train,F)\n",
      "    print('learning:')\n",
      "    for step in range(0,n):\n",
      "        print(step)\n",
      "        for index,row in train.iterrows():\n",
      "            u=row[0]\n",
      "            i=row[1]\n",
      "            rui=row[2]\n",
      "            pui=Predict(u,i,p,q,bu,bi,mu)\n",
      "            eui=rui-pui\n",
      "            bu[u] += alpha * (eui - lamda * bu[u])\n",
      "            bi[i] += alpha * (eui - lamda * bi[i]) \n",
      "            for k in range(0,F):\n",
      "                p[u][k]+=alpha*(q[i][k]*eui-lamda*p[u][k])\n",
      "                q[i][k]+=alpha*(p[u][k]*eui-lamda*q[i][k])\n",
      "        alpha*=0.9\n",
      "    return [bu,bi,mu,p,q]\n",
      "\n",
      "if __name__ == \"__main__\":  \n",
      "    train = pd.read_table('ua.base', header=None)\n",
      "    test = pd.read_table('ua.test', header=None)\n",
      "    #train = pd.read_table('10000-training.dat', header=None,sep=',')\n",
      "    #test = pd.read_table('10000-testing.dat', header=None,sep=',')\n",
      "    [bu,bi,mu,p,q]=LearningBiasLFM(train,100,10,0.02,0.01)\n",
      "    result=pd.DataFrame(dtype=float)\n",
      "    result[0]=test[0]\n",
      "    result[1]=test[1]\n",
      "    result[2]=test[2]\n",
      "    result[3]=0.0\n",
      "    for index,row in result.iterrows():\n",
      "        result.loc[index,3]=Predict(row[0],row[1],p,q,bu,bi,mu)\n",
      "    print(result)\n",
      "    print(RMSE(result))"
     ],
     "language": "python",
     "metadata": {},
     "outputs": [
      {
       "output_type": "stream",
       "stream": "stdout",
       "text": [
        "learning:\n",
        "0\n",
        "1"
       ]
      },
      {
       "output_type": "stream",
       "stream": "stdout",
       "text": [
        "\n",
        "2"
       ]
      },
      {
       "output_type": "stream",
       "stream": "stdout",
       "text": [
        "\n",
        "3"
       ]
      },
      {
       "output_type": "stream",
       "stream": "stdout",
       "text": [
        "\n",
        "4"
       ]
      },
      {
       "output_type": "stream",
       "stream": "stdout",
       "text": [
        "\n",
        "5"
       ]
      },
      {
       "output_type": "stream",
       "stream": "stdout",
       "text": [
        "\n",
        "6"
       ]
      },
      {
       "output_type": "stream",
       "stream": "stdout",
       "text": [
        "\n",
        "7"
       ]
      },
      {
       "output_type": "stream",
       "stream": "stdout",
       "text": [
        "\n",
        "8"
       ]
      },
      {
       "output_type": "stream",
       "stream": "stdout",
       "text": [
        "\n",
        "9"
       ]
      },
      {
       "output_type": "stream",
       "stream": "stdout",
       "text": [
        "\n",
        "['lost i', 1582.0]"
       ]
      },
      {
       "output_type": "stream",
       "stream": "stdout",
       "text": [
        "\n",
        "['lost i', 1653.0]"
       ]
      },
      {
       "output_type": "stream",
       "stream": "stdout",
       "text": [
        "\n",
        "        0     1  2         3\n",
        "0       1    20  4  3.569106\n",
        "1       1    33  4  3.467622\n",
        "2       1    61  4  4.159118\n",
        "3       1   117  3  3.670022\n",
        "4       1   155  2  2.358866\n",
        "5       1   160  4  3.520399\n",
        "6       1   171  5  4.334892\n",
        "7       1   189  3  4.503041\n",
        "8       1   202  5  4.079154\n",
        "9       1   265  4  3.808886\n",
        "10      2    13  4  3.478778\n",
        "11      2    50  5  4.281121\n",
        "12      2   251  5  4.434448\n",
        "13      2   280  3  3.050598\n",
        "14      2   281  3  3.239739\n",
        "15      2   290  3  3.079627\n",
        "16      2   292  4  3.789707\n",
        "17      2   297  4  4.014283\n",
        "18      2   312  3  3.164416\n",
        "19      2   314  1  2.911435\n",
        "20      3   245  1  2.722600\n",
        "21      3   294  2  2.533664\n",
        "22      3   323  2  2.355686\n",
        "23      3   328  5  3.037354\n",
        "24      3   331  4  3.136722\n",
        "25      3   332  1  2.974586\n",
        "26      3   334  3  3.096193\n",
        "27      3   335  1  2.506206\n",
        "28      3   337  1  3.203073\n",
        "29      3   343  3  2.743134\n",
        "...   ...   ... ..       ...\n",
        "9400  941     7  4  4.067051\n",
        "9401  941    15  4  3.951410\n",
        "9402  941   117  5  3.780906\n",
        "9403  941   124  5  4.342597\n",
        "9404  941   147  4  3.645485\n",
        "9405  941   181  5  4.274124\n",
        "9406  941   257  4  3.927046\n",
        "9407  941   258  4  4.074352\n",
        "9408  941   475  4  4.053996\n",
        "9409  941   993  4  3.799765\n",
        "9410  942   117  4  4.429055\n",
        "9411  942   200  4  4.285322\n",
        "9412  942   261  4  2.934404\n",
        "9413  942   323  3  3.318913\n",
        "9414  942   423  5  4.540779\n",
        "9415  942   427  5  4.884880\n",
        "9416  942   487  4  4.629077\n",
        "9417  942   584  4  4.108295\n",
        "9418  942   604  4  4.577367\n",
        "9419  942   615  3  4.541600\n",
        "9420  943    11  4  4.565700\n",
        "9421  943    58  4  3.520116\n",
        "9422  943   111  4  3.077120\n",
        "9423  943   186  5  4.258471\n",
        "9424  943   215  5  3.545833\n",
        "9425  943   232  4  3.434143\n",
        "9426  943   356  4  3.273941\n",
        "9427  943   570  1  2.958411\n",
        "9428  943   808  4  2.937617\n",
        "9429  943  1067  2  3.389639\n",
        "\n",
        "[9430 rows x 4 columns]"
       ]
      },
      {
       "output_type": "stream",
       "stream": "stdout",
       "text": [
        "\n",
        "0.935068491217399\n"
       ]
      }
     ],
     "prompt_number": 2
    }
   ],
   "metadata": {}
  }
 ]
}