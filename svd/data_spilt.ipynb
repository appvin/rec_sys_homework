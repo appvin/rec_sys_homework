{
 "metadata": {
  "name": "",
  "signature": "sha256:b6d7a013c4dd67ddacd756d36419c0bea08c99b3687f293f6015e194b0be5404"
 },
 "nbformat": 3,
 "nbformat_minor": 0,
 "worksheets": [
  {
   "cells": [
    {
     "cell_type": "code",
     "collapsed": false,
     "input": [
      "import pandas\n",
      "import numpy\n",
      "\n",
      "path = ''\n",
      "min_log_num = 0\n",
      "test_thre=0.0\n",
      "import os\n",
      "\n",
      "df = pandas.read_csv(os.path.join(path, '10000-samples.dat'), delimiter = '\\t', header = None, names = ['uid', 'iid', 'rating', 'timestamp'])\n",
      "df = df.sort_values(by = ['timestamp'])\n",
      "\n",
      "count_iid = df.iid.value_counts()\n",
      "used_iid = count_iid[count_iid>=min_log_num].index\n",
      "\n",
      "min_time = df.timestamp.min()\n",
      "max_time = df.timestamp.max()\n",
      "delta = max_time - min_time\n",
      "threshold = max_time - delta / 4\n",
      "\n",
      "train_set = df[df.timestamp <= threshold]\n",
      "test_set = df[df.timestamp > threshold]\n",
      "df.columns = ['uid', 'iid', 'rating', 'timestamp']\n",
      "users = df.uid.unique()\n",
      "items = df.iid.unique()\n",
      "df = df.groupby(['uid', 'iid'])['rating'].sum().reset_index()\n",
      "train_set=train_set[train_set.rating>0]\n",
      "train_set=train_set[train_set.rating<1]\n",
      "test_set=test_set[test_set.rating>0]\n",
      "test_set=test_set[test_set.rating<1]\n",
      "train_set.rating=(train_set.rating*4).apply(numpy.round)\n",
      "test_set.rating=(test_set.rating*4).apply(numpy.round)\n",
      "train_set.rating+=1\n",
      "test_set.rating+=1\n",
      "print('size of train:')\n",
      "print(len(train_set))\n",
      "train_set = train_set[train_set.iid.isin(used_iid)]\n",
      "test_set = test_set[test_set.iid.isin(used_iid)]\n",
      "print('size of test:')\n",
      "print(len(test_set))\n",
      "test_set=test_set[test_set.iid.isin(train_set.iid)]\n",
      "print(len(test_set))\n",
      "test_set=test_set[test_set.uid.isin(train_set.uid)]\n",
      "print(len(test_set))\n",
      "test_set=test_set[test_set.rating>test_thre]\n",
      "print(len(test_set))\n",
      "\n",
      "train_set.drop('timestamp',axis=1)\n",
      "test_set.drop('timestamp',axis=1)\n",
      "#print(train_set)\n",
      "#print(test_set)\n",
      "print(max(train_set.rating))\n",
      "print(min(train_set.rating))\n",
      "train_set.to_csv(os.path.join(path, '10000-training.dat'), header = False, index = None)\n",
      "test_set.to_csv(os.path.join(path, '10000-testing.dat'), header = False, index = None)\n"
     ],
     "language": "python",
     "metadata": {},
     "outputs": [
      {
       "output_type": "stream",
       "stream": "stdout",
       "text": [
        "size of train:\n",
        "1292185\n",
        "size of test:"
       ]
      },
      {
       "output_type": "stream",
       "stream": "stdout",
       "text": [
        "\n",
        "474130\n",
        "458526"
       ]
      },
      {
       "output_type": "stream",
       "stream": "stdout",
       "text": [
        "\n",
        "440751"
       ]
      },
      {
       "output_type": "stream",
       "stream": "stdout",
       "text": [
        "\n",
        "440751\n",
        "5.0"
       ]
      },
      {
       "output_type": "stream",
       "stream": "stdout",
       "text": [
        "\n",
        "1.0"
       ]
      },
      {
       "output_type": "stream",
       "stream": "stdout",
       "text": [
        "\n"
       ]
      }
     ],
     "prompt_number": 2
    }
   ],
   "metadata": {}
  }
 ]
}