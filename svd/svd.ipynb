{
 "metadata": {
  "name": "",
  "signature": "sha256:d99733995c5927feb762fa137f5ba611c0016b1f0a3ff0c9bc2f6b9bc15aea65"
 },
 "nbformat": 3,
 "nbformat_minor": 0,
 "worksheets": [
  {
   "cells": [
    {
     "cell_type": "code",
     "collapsed": false,
     "input": [
      "import math\n",
      "import random\n",
      "import pandas as pd\n",
      "from scipy.sparse import csr_matrix\n",
      "\n",
      "#u,i,rui,pui\n",
      "def RMSE(records):\n",
      "    rui=records[2]   \n",
      "    pui=records[3]\n",
      "    return math.sqrt(sum((rui-pui).dot(rui-pui))/float(len(records)))\n",
      "\n",
      "def InitBiasLFM(train,F):\n",
      "    p=dict()\n",
      "    q=dict()\n",
      "    for index,row in train.iterrows():\n",
      "        u=row[0]\n",
      "        i=row[1]\n",
      "        if u not in p:\n",
      "            p[u]=[random.random()/math.sqrt(F) for x in range(0,F)]\n",
      "        if i not in q:\n",
      "            q[i]=[random.random()/math.sqrt(F) for x in range(0,F)]\n",
      "    return [p,q]\n",
      "\n",
      "def Predict(u,i,p,q):\n",
      "    if u not in p:\n",
      "        print(['lost u',u])\n",
      "        return 3\n",
      "    if i not in q:\n",
      "        print(['lost i',i])\n",
      "        return 3\n",
      "    return sum(p[u][f]*q[i][f] for f in range(0,len(p[u])))\n",
      "\n",
      "def LearningBiasLFM(train,F,n,alpha,lamda):\n",
      "    [p,q]=InitBiasLFM(train,F)\n",
      "    print('learning:')\n",
      "    for step in range(0,n):\n",
      "        print(step)\n",
      "        for index,row in train.iterrows():\n",
      "            u=row[0]\n",
      "            i=row[1]\n",
      "            rui=row[2]\n",
      "            pui=Predict(u,i,p,q)\n",
      "            eui=rui-pui \n",
      "            for k in range(0,F):\n",
      "                p[u][k]+=alpha*(q[i][k]*eui-lamda*p[u][k])\n",
      "                q[i][k]+=alpha*(p[u][k]*eui-lamda*q[i][k])\n",
      "        alpha*=0.9\n",
      "    return [p,q]\n",
      "\n",
      "if __name__ == \"__main__\":  \n",
      "    #train = pd.read_table('ua.base', header=None)\n",
      "    #test = pd.read_table('ua.test', header=None)   \n",
      "    train = pd.read_table('10000-training.dat', header=None,sep=',')\n",
      "    test = pd.read_table('10000-testing.dat', header=None,sep=',')\n",
      "    [p,q]=LearningBiasLFM(train,1,1,0.02,0.01)\n",
      "    result=pd.DataFrame(dtype=float)\n",
      "    result[0]=test[0]\n",
      "    result[1]=test[1]\n",
      "    result[2]=test[2]\n",
      "    result[3]=0.0\n",
      "    for index,row in result.iterrows():\n",
      "        result.loc[index,3]=Predict(row[0],row[1],p,q)\n",
      "    print(result)\n",
      "    print(RMSE(result))"
     ],
     "language": "python",
     "metadata": {
      "slideshow": {
       "slide_type": "-"
      }
     },
     "outputs": []
    }
   ],
   "metadata": {}
  }
 ]
}