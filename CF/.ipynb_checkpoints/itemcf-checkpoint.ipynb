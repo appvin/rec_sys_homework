{
 "metadata": {
  "name": "",
  "signature": "sha256:1bae842b0daf0ed0067d9798293ba48f248908ae4f3f5e5562d9983db49145ed"
 },
 "nbformat": 3,
 "nbformat_minor": 0,
 "worksheets": [
  {
   "cells": [
    {
     "cell_type": "code",
     "collapsed": false,
     "input": [
      "import pandas as pd\n",
      "import numpy as np\n",
      "from scipy.sparse import lil_matrix\n",
      "from scipy.spatial import distance\n",
      "import math\n",
      "from sklearn.metrics.pairwise import cosine_similarity\n",
      "import zscore\n",
      "\n",
      "def AddToDict(dic,i,j,v=-1):\n",
      "    if v==-1:\n",
      "        v=j\n",
      "        if i not in dic:\n",
      "            dic[i]=v\n",
      "        else:\n",
      "            dic[i]+=v\n",
      "    else:\n",
      "        if i not in dic:\n",
      "            dic.update({i:{j: v}})\n",
      "        elif j not in dic[i]:\n",
      "            dic[i][j]=v\n",
      "        else:\n",
      "            dic[i][j]+=v\n",
      "\n",
      "#u,i,rui,pui\n",
      "def RMSE(records):\n",
      "    rui=records[2]   \n",
      "    pui=records[3]\n",
      "    return math.sqrt(sum((rui-pui).dot(rui-pui))/float(len(records)))\n",
      "\n",
      "def ItemSimilarity(train):\n",
      "    nUsers = max(train[0])+1\n",
      "    nItems = max(train[1])+1\n",
      "    R = lil_matrix((nUsers, nItems))\n",
      "    for idx,row in train.iterrows():\n",
      "        R[row[0],row[1]]=row[2]\n",
      "    S = cosine_similarity(R.T)\n",
      "    W=dict()\n",
      "    for u in range(1,nItems):\n",
      "        for i in range(1,nItems):\n",
      "            if u not in W:\n",
      "                W.update({u:{i: S[u][i]}})\n",
      "            else:\n",
      "                W[u][i]=S[u][i]\n",
      "    return W\n",
      "\n",
      "def ratingPredict(u,i,W,train_dict):\n",
      "    num=0\n",
      "    sumrating=0\n",
      "    sumsim=0\n",
      "    if i not in W:\n",
      "        print(['lost i: ',i])\n",
      "        return 3\n",
      "    for simi,w in W[i]:\n",
      "        if simi not in train_dict[u]:\n",
      "            continue\n",
      "        num+=1\n",
      "        sumrating+=train_dict[u][simi]*w\n",
      "        sumsim+=w\n",
      "        if sum==10:\n",
      "            break\n",
      "    if(sumsim==0):\n",
      "        print([u,i])\n",
      "        return 3\n",
      "    return sumrating/sumsim\n",
      "\n",
      "if __name__ == \"__main__\": \n",
      "    train = pd.read_table('../ml-100k/ua.base', header=None)\n",
      "    [train,meanr,stdr]=zscore.h_item(train)\n",
      "    train_dict=dict()\n",
      "    for index,row in train.iterrows():\n",
      "        u=row[0]\n",
      "        i=row[1]\n",
      "        rating=row[2]\n",
      "        if u not in train_dict:\n",
      "            train_dict.update({u:{i: rating}})\n",
      "        else:\n",
      "            train_dict[u][i]=rating\n",
      "    test = pd.read_table('../ml-100k/ua.test', header=None) \n",
      "    print('train...')\n",
      "    W=ItemSimilarity(train)\n",
      "    for i,w in W.items():\n",
      "        W[i]=sorted(W[i].items(),  key=lambda d:d[1], reverse = True)\n",
      "    result=pd.DataFrame(dtype=float)\n",
      "    result[0]=test[0]\n",
      "    result[1]=test[1]\n",
      "    result[2]=test[2]\n",
      "    result[3]=0.0\n",
      "    for index,row in result.iterrows():\n",
      "        result.loc[index,3]=ratingPredict(row[0],row[1],W,train_dict)\n",
      "    result=zscore._h_item(result,meanr,stdr)\n",
      "    #print(result)\n",
      "    for index,row in result.iterrows():\n",
      "        if abs(row[2]-row[3])>5:\n",
      "            print(row)\n",
      "    print(RMSE(result))"
     ],
     "language": "python",
     "metadata": {},
     "outputs": [
      {
       "output_type": "stream",
       "stream": "stdout",
       "text": [
        "mean,std...\n",
        "h..."
       ]
      },
      {
       "output_type": "stream",
       "stream": "stdout",
       "text": [
        "\n",
        "0\n",
        "10000"
       ]
      },
      {
       "output_type": "stream",
       "stream": "stdout",
       "text": [
        "\n",
        "20000"
       ]
      },
      {
       "output_type": "stream",
       "stream": "stdout",
       "text": [
        "\n",
        "30000"
       ]
      },
      {
       "output_type": "stream",
       "stream": "stdout",
       "text": [
        "\n",
        "40000"
       ]
      },
      {
       "output_type": "stream",
       "stream": "stdout",
       "text": [
        "\n",
        "50000"
       ]
      },
      {
       "output_type": "stream",
       "stream": "stdout",
       "text": [
        "\n",
        "60000"
       ]
      },
      {
       "output_type": "stream",
       "stream": "stdout",
       "text": [
        "\n",
        "70000"
       ]
      },
      {
       "output_type": "stream",
       "stream": "stdout",
       "text": [
        "\n",
        "80000"
       ]
      },
      {
       "output_type": "stream",
       "stream": "stdout",
       "text": [
        "\n",
        "90000"
       ]
      },
      {
       "output_type": "stream",
       "stream": "stdout",
       "text": [
        "\n",
        "train..."
       ]
      },
      {
       "output_type": "stream",
       "stream": "stdout",
       "text": [
        "\n",
        "[405.0, 1582.0]"
       ]
      },
      {
       "output_type": "stream",
       "stream": "stdout",
       "text": [
        "\n",
        "[675.0, 1653.0]"
       ]
      },
      {
       "output_type": "stream",
       "stream": "stdout",
       "text": [
        "\n",
        "_h..."
       ]
      },
      {
       "output_type": "stream",
       "stream": "stdout",
       "text": [
        "\n",
        "0\n",
        "['0:', 1.0]\n",
        "['0:', 1.0]\n",
        "['nan:', 5.0]"
       ]
      },
      {
       "output_type": "stream",
       "stream": "stdout",
       "text": [
        "\n",
        "['nan:', 2.0]"
       ]
      },
      {
       "output_type": "stream",
       "stream": "stdout",
       "text": [
        "\n",
        "['0:', 1.0]"
       ]
      },
      {
       "output_type": "stream",
       "stream": "stdout",
       "text": [
        "\n",
        "['0:', 5.0]"
       ]
      },
      {
       "output_type": "stream",
       "stream": "stdout",
       "text": [
        "\n",
        "['nan:', 5.0]"
       ]
      },
      {
       "output_type": "stream",
       "stream": "stdout",
       "text": [
        "\n",
        "['0:', 1.0]"
       ]
      },
      {
       "output_type": "stream",
       "stream": "stdout",
       "text": [
        "\n",
        "['nan:', 1.0]"
       ]
      },
      {
       "output_type": "stream",
       "stream": "stdout",
       "text": [
        "\n",
        "['nan:', 2.0]"
       ]
      },
      {
       "output_type": "stream",
       "stream": "stdout",
       "text": [
        "\n",
        "['nan:', 1.0]"
       ]
      },
      {
       "output_type": "stream",
       "stream": "stdout",
       "text": [
        "\n",
        "['0:', 2.0]"
       ]
      },
      {
       "output_type": "stream",
       "stream": "stdout",
       "text": [
        "\n",
        "['nan:', 4.0]"
       ]
      },
      {
       "output_type": "stream",
       "stream": "stdout",
       "text": [
        "\n",
        "['0:', 1.0]"
       ]
      },
      {
       "output_type": "stream",
       "stream": "stdout",
       "text": [
        "\n",
        "['0:', 1.0]"
       ]
      },
      {
       "output_type": "stream",
       "stream": "stdout",
       "text": [
        "\n",
        "0     31.000000\n",
        "1    682.000000\n",
        "2      2.000000\n",
        "3      7.369361\n",
        "Name: 307, dtype: float64"
       ]
      },
      {
       "output_type": "stream",
       "stream": "stdout",
       "text": [
        "\n",
        "0     34.000000\n",
        "1    310.000000\n",
        "2      4.000000\n",
        "3    -60.089684\n",
        "Name: 335, dtype: float64\n",
        "0    73.000000\n",
        "1    94.000000\n",
        "2     1.000000\n",
        "3     9.488744\n",
        "Name: 722, dtype: float64\n",
        "0     98.000000\n",
        "1    938.000000\n",
        "2      3.000000\n",
        "3   -206.047594\n",
        "Name: 979, dtype: float64\n",
        "0    118.000000\n",
        "1    324.000000\n",
        "2      4.000000\n",
        "3   -431.727511\n",
        "Name: 1174, dtype: float64\n",
        "0    145.000000\n",
        "1    974.000000\n",
        "2      1.000000\n",
        "3      8.180607\n",
        "Name: 1448, dtype: float64\n",
        "0    175.000000\n",
        "1    669.000000\n",
        "2      1.000000\n",
        "3     -5.892157\n",
        "Name: 1749, dtype: float64\n",
        "0    219.00000\n",
        "1    114.00000\n",
        "2      5.00000\n",
        "3     15.88898\n",
        "Name: 2182, dtype: float64\n",
        "0    229.000000\n",
        "1    875.000000\n",
        "2      1.000000\n",
        "3    -22.443589\n",
        "Name: 2289, dtype: float64\n",
        "0    233.000000\n",
        "1    375.000000\n",
        "2      4.000000\n",
        "3     37.516539\n",
        "Name: 2326, dtype: float64\n",
        "0    300.000000\n",
        "1    100.000000\n",
        "2      3.000000\n",
        "3     14.069474\n",
        "Name: 2990, dtype: float64"
       ]
      },
      {
       "output_type": "stream",
       "stream": "stdout",
       "text": [
        "\n",
        "0    304.000000\n",
        "1    893.000000\n",
        "2      3.000000\n",
        "3     14.223603\n",
        "Name: 3039, dtype: float64\n",
        "0    307.000000\n",
        "1    687.000000\n",
        "2      1.000000\n",
        "3     -5.464286\n",
        "Name: 3067, dtype: float64\n",
        "0     399.000000\n",
        "1    1314.000000\n",
        "2       3.000000\n",
        "3      -3.443171\n",
        "Name: 3989, dtype: float64\n",
        "0    408.000000\n",
        "1    319.000000\n",
        "2      5.000000\n",
        "3     -4.763354\n",
        "Name: 4075, dtype: float64\n",
        "0    418.000000\n",
        "1    344.000000\n",
        "2      1.000000\n",
        "3     22.759049\n",
        "Name: 4178, dtype: float64\n",
        "0    436.00000\n",
        "1    454.00000\n",
        "2      4.00000\n",
        "3      9.77902\n",
        "Name: 4358, dtype: float64\n",
        "0     438.000000\n",
        "1       9.000000\n",
        "2       4.000000\n",
        "3   -1356.671844\n",
        "Name: 4370, dtype: float64\n",
        "0     444.000000\n",
        "1    1483.000000\n",
        "2       2.000000\n",
        "3       7.477029\n",
        "Name: 4439, dtype: float64\n",
        "0    459.000000\n",
        "1    134.000000\n",
        "2      3.000000\n",
        "3      8.955067\n",
        "Name: 4580, dtype: float64\n",
        "0    519.000000\n",
        "1    909.000000\n",
        "2      5.000000\n",
        "3     25.195059\n",
        "Name: 5186, dtype: float64"
       ]
      },
      {
       "output_type": "stream",
       "stream": "stdout",
       "text": [
        "\n",
        "0    620.000000\n",
        "1    444.000000\n",
        "2      3.000000\n",
        "3     49.066169\n",
        "Name: 6194, dtype: float64\n",
        "0    641.000000\n",
        "1    192.000000\n",
        "2      4.000000\n",
        "3     -4.181237\n",
        "Name: 6403, dtype: float64\n",
        "0    662.000000\n",
        "1    591.000000\n",
        "2      4.000000\n",
        "3     10.522789\n",
        "Name: 6618, dtype: float64\n",
        "0     683.000000\n",
        "1    1483.000000\n",
        "2       3.000000\n",
        "3      -2.322452\n",
        "Name: 6829, dtype: float64\n",
        "0    685.000000\n",
        "1    991.000000\n",
        "2      1.000000\n",
        "3     37.389475\n",
        "Name: 6849, dtype: float64\n",
        "0    729.000000\n",
        "1    683.000000\n",
        "2      2.000000\n",
        "3     20.137823\n",
        "Name: 7284, dtype: float64\n",
        "0    729.000000\n",
        "1    901.000000\n",
        "2      1.000000\n",
        "3    -24.258731\n",
        "Name: 7289, dtype: float64\n",
        "0     778.0000\n",
        "1    1273.0000\n",
        "2       3.0000\n",
        "3      20.9888\n",
        "Name: 7779, dtype: float64"
       ]
      },
      {
       "output_type": "stream",
       "stream": "stdout",
       "text": [
        "\n",
        "0    781.000000\n",
        "1    324.000000\n",
        "2      4.000000\n",
        "3    -17.996035\n",
        "Name: 7807, dtype: float64\n",
        "0    785.000000\n",
        "1    209.000000\n",
        "2      3.000000\n",
        "3      8.224576\n",
        "Name: 7846, dtype: float64\n",
        "0    798.00000\n",
        "1    998.00000\n",
        "2      3.00000\n",
        "3      9.10975\n",
        "Name: 7978, dtype: float64\n",
        "0    806.000000\n",
        "1    407.000000\n",
        "2      3.000000\n",
        "3     -3.850132\n",
        "Name: 8056, dtype: float64\n",
        "0    813.000000\n",
        "1    901.000000\n",
        "2      1.000000\n",
        "3      7.222316\n",
        "Name: 8128, dtype: float64\n",
        "0     823.000000\n",
        "1    1217.000000\n",
        "2       1.000000\n",
        "3      22.001325\n",
        "Name: 8229, dtype: float64\n",
        "0    841.000000\n",
        "1    892.000000\n",
        "2      3.000000\n",
        "3     -3.966322\n",
        "Name: 8409, dtype: float64\n",
        "0    842.000000\n",
        "1    362.000000\n",
        "2      3.000000\n",
        "3    -16.128772\n",
        "Name: 8415, dtype: float64\n",
        "0     907.000000\n",
        "1    1057.000000\n",
        "2       3.000000\n",
        "3     -10.429755\n",
        "Name: 9069, dtype: float64\n",
        "0    914.000000\n",
        "1    736.000000\n",
        "2      3.000000\n",
        "3     -2.995217\n",
        "Name: 9138, dtype: float64\n",
        "14.95089287919355\n"
       ]
      }
     ],
     "prompt_number": 1
    }
   ],
   "metadata": {}
  }
 ]
}