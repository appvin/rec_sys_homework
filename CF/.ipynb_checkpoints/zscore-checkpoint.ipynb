{
 "metadata": {
  "name": "",
  "signature": "sha256:b849a9b3fdb3d29914ea38cbede99af3f030d4c14d12aa1efb0abb2122d39f65"
 },
 "nbformat": 3,
 "nbformat_minor": 0,
 "worksheets": []
}