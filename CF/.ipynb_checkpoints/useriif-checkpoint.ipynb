{
 "metadata": {
  "name": "",
  "signature": "sha256:e22eff1943ae0c9a24909ec7a2297ff46c0a7aa0270d04f1c0e909acb1a39b74"
 },
 "nbformat": 3,
 "nbformat_minor": 0,
 "worksheets": [
  {
   "cells": [
    {
     "cell_type": "code",
     "collapsed": false,
     "input": [
      "import pandas as pd\n",
      "import numpy as np\n",
      "from scipy.sparse import csr_matrix\n",
      "from scipy.spatial import distance\n",
      "import math\n",
      "from sklearn.model_selection import train_test_split\n",
      "from sklearn.metrics.pairwise import cosine_similarity\n",
      "import zscore\n",
      "\n",
      "#u,i,rui,pui\n",
      "def RMSE(records):\n",
      "    rui=records[2]   \n",
      "    pui=records[3]\n",
      "    return math.sqrt(sum((rui-pui).dot(rui-pui))/float(len(records)))\n",
      "\n",
      "def UserSimilarity(train):\n",
      "    # build inverse table for item_users\n",
      "    train=train.pivot_table(index=[0,1],values=[2])\n",
      "    item_users = dict()\n",
      "    for u in train.index.levels[0]:\n",
      "        items=train.loc[u]       \n",
      "        for i,row in items.iterrows():\n",
      "            if i not in item_users:\n",
      "                item_users[i] = set() \n",
      "            item_users[i].add(u)\n",
      "            \n",
      "    #calculate co-rated items between users \n",
      "    C = dict()\n",
      "    N = dict()\n",
      "    for i, users in item_users.items(): \n",
      "        for u in users:\n",
      "            zscore.AddToDict(N,u,1)\n",
      "            for v in users:\n",
      "                if u == v: \n",
      "                    continue\n",
      "                zscore.AddToDict(C,u,v,1 / math.log(1 + len(users)))\n",
      "                \n",
      "    #calculate finial similarity matrix W \n",
      "    W = dict()\n",
      "    for u, related_users in C.items(): \n",
      "        for v, cuv in related_users.items(): \n",
      "            if u not in W:\n",
      "                W.update({u:{v: cuv / math.sqrt(N[u] * N[v])}})\n",
      "            else:\n",
      "                W[u][v] = cuv / math.sqrt(N[u] * N[v])\n",
      "    return W\n",
      "\n",
      "def ratingPredict(u,i,W,train_dict):\n",
      "    num=0\n",
      "    sumrating=0\n",
      "    sumsim=0\n",
      "    for simu,w in W[u]:\n",
      "        if i not in train_dict[simu]:\n",
      "            continue\n",
      "        num+=1\n",
      "        sumrating+=train_dict[simu][i]*w\n",
      "        sumsim+=w\n",
      "        #if sum==10:\n",
      "            #break\n",
      "    if(sumsim==0):\n",
      "        #print([u,i])\n",
      "        return -1\n",
      "    return sumrating/sumsim\n",
      "\n",
      "def useriif_test(train,test):\n",
      "    old_train=train.copy()\n",
      "    [train,meanr,stdr]=zscore.h_user(train)\n",
      "    train_dict=dict()\n",
      "    for index,row in train.iterrows():\n",
      "        u=row[0]\n",
      "        i=row[1]\n",
      "        rating=row[2]\n",
      "        if u not in train_dict:\n",
      "            train_dict.update({u:{i: rating}})\n",
      "        else:\n",
      "            train_dict[u][i]=rating   \n",
      "    W=UserSimilarity(train)\n",
      "    for u,w in W.items():\n",
      "        W[u]=sorted(W[u].items(),  key=lambda d:d[1], reverse = True)   \n",
      "    result=pd.DataFrame(dtype=float)\n",
      "    result[0]=test[0]\n",
      "    result[1]=test[1]\n",
      "    result[2]=test[2]\n",
      "    result[3]=0.0\n",
      "    for index,row in result.iterrows():\n",
      "        eui=ratingPredict(row[0],row[1],W,train_dict)\n",
      "        if eui<0:\n",
      "            eui=3\n",
      "        result.loc[index,3]=eui\n",
      "    result=zscore._h_user(result,meanr,stdr)\n",
      "    #print(result)\n",
      "    print(RMSE(result))\n",
      "    result.to_csv('usercf-test.csv',index=False)\n",
      "    result=pd.DataFrame(dtype=float)\n",
      "    result[0]=old_train[0]\n",
      "    result[1]=old_train[1]\n",
      "    result[2]=old_train[2]\n",
      "    result[3]=0.0\n",
      "    for index,row in result.iterrows():\n",
      "        eui=ratingPredict(row[0],row[1],W,train_dict)\n",
      "        if eui>0:\n",
      "            result.loc[index,3]=eui\n",
      "        else:\n",
      "            result.drop(index,axis=0)\n",
      "    result=zscore._h_user(result,meanr,stdr)\n",
      "    #print(result)\n",
      "    print(RMSE(result))\n",
      "    result.to_csv('usercf-train.csv',index=False)\n",
      "    \n",
      "def useriif(train):\n",
      "    old_train=train.copy()\n",
      "    [train,meanr,stdr]=zscore.h_user(train)\n",
      "    train_dict=dict()\n",
      "    for index,row in train.iterrows():\n",
      "        u=row[0]\n",
      "        i=row[1]\n",
      "        rating=row[2]\n",
      "        if u not in train_dict:\n",
      "            train_dict.update({u:{i: rating}})\n",
      "        else:\n",
      "            train_dict[u][i]=rating \n",
      "    print('init end')\n",
      "    W=UserSimilarity(train)\n",
      "    for u,w in W.items():\n",
      "        W[u]=sorted(W[u].items(),  key=lambda d:d[1], reverse = True)   \n",
      "    print('w end')\n",
      "    trian=pd.DataFrame()\n",
      "    test=pd.DataFrame()\n",
      "    nUsers = max(train[0])+1\n",
      "    nItems = max(train[1])+1\n",
      "    num=0\n",
      "    for u in range(1,nUsers):\n",
      "        for i in range(1,nItems):\n",
      "            eui=ratingPredict(u,i,W,train_dict)\n",
      "            if eui<0:\n",
      "                continue   \n",
      "            if u in train_dict and i in train_dict[u]:\n",
      "                row=[u,i,train_dict[u][i],eui]\n",
      "                if trian.empty:\n",
      "                    trian[0]=row\n",
      "                else:\n",
      "                    trian=trian.append(row,ignore_index=True)\n",
      "            else:\n",
      "                row=[u,i,eui]\n",
      "                if test.empty:\n",
      "                    test[0]=row\n",
      "                else:\n",
      "                    test=test.append(row,ignore_index=True)\n",
      "            num+=1\n",
      "            if num%1000==0:\n",
      "                print(num)\n",
      "    train=zscore._h_user(train,meanr,stdr)\n",
      "    test=zscore._h_user(test,meanr,stdr)\n",
      "    return [train,test]\n",
      "    \n",
      "if __name__ == \"__main__\": \n",
      "    train = pd.read_table('../ml-100k/ua.base', header=None)\n",
      "    test = pd.read_table('../ml-100k/ua.test', header=None) \n",
      "    print(useriif(test))"
     ],
     "language": "python",
     "metadata": {},
     "outputs": [
      {
       "output_type": "stream",
       "stream": "stdout",
       "text": [
        "mean,std...\n",
        "h..."
       ]
      },
      {
       "output_type": "stream",
       "stream": "stdout",
       "text": [
        "\n",
        "0\n",
        "init end"
       ]
      },
      {
       "output_type": "stream",
       "stream": "stdout",
       "text": [
        "\n",
        "w end"
       ]
      },
      {
       "output_type": "stream",
       "stream": "stdout",
       "text": [
        "\n",
        "1000"
       ]
      },
      {
       "output_type": "stream",
       "stream": "stdout",
       "text": [
        "\n",
        "2000"
       ]
      },
      {
       "output_type": "stream",
       "stream": "stdout",
       "text": [
        "\n",
        "3000"
       ]
      },
      {
       "output_type": "stream",
       "stream": "stdout",
       "text": [
        "\n",
        "4000"
       ]
      },
      {
       "output_type": "stream",
       "stream": "stdout",
       "text": [
        "\n",
        "5000"
       ]
      }
     ]
    }
   ],
   "metadata": {}
  }
 ]
}