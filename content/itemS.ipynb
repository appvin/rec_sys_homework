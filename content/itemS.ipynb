{
 "metadata": {
  "name": "",
  "signature": "sha256:58d4bdddb959f72bff742bad02ded7ff3c9e257e4c26b1901388fcb30188d4c2"
 },
 "nbformat": 3,
 "nbformat_minor": 0,
 "worksheets": [
  {
   "cells": [
    {
     "cell_type": "code",
     "collapsed": false,
     "input": [
      "import math\n",
      "import pandas as pd\n",
      "from sklearn.metrics.pairwise import cosine_similarity\n",
      "\n",
      "class itemsim:\n",
      "    S=0\n",
      "    \n",
      "    def __init__(self,itempath):\n",
      "        itemsim.items = pd.read_table(itempath, header=None,sep='|') \n",
      "        item_genre=itemsim.items.loc[:,5:23]\n",
      "        itemsim.S=cosine_similarity(item_genre)\n",
      "    \n",
      "    def topn(self,item,K=10):\n",
      "        item-=1\n",
      "        l=pd.DataFrame(itemsim.S[item])      \n",
      "        l[1]=l.index+1\n",
      "        l[2]=itemsim.items[1]\n",
      "        l=pd.DataFrame(l.sort_values(by=0,ascending=False))\n",
      "        top=[]\n",
      "        idx=0\n",
      "        for index,row in l.iterrows():\n",
      "            if row[1]==item+1:\n",
      "                continue\n",
      "            else:\n",
      "                top.append(row[2])\n",
      "            idx+=1\n",
      "            if idx==K:\n",
      "                break\n",
      "        return top\n",
      "\n",
      "if __name__ == \"__main__\": \n",
      "    item_content=itemsim('u.item')\n",
      "    print(item_content.topn(1))"
     ],
     "language": "python",
     "metadata": {},
     "outputs": [
      {
       "output_type": "stream",
       "stream": "stdout",
       "text": [
        "['Maximum Risk (1996)', 'Twister (1996)', 'Surviving the Game (1994)', 'Anaconda (1997)', 'Chain Reaction (1996)', 'Clear and Present Danger (1994)', 'Con Air (1997)', 'GoldenEye (1995)', 'Firestorm (1998)', 'Rock, The (1996)']\n"
       ]
      }
     ],
     "prompt_number": 16
    }
   ],
   "metadata": {}
  }
 ]
}