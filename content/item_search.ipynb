{
 "metadata": {
  "name": "",
  "signature": "sha256:0d55bf8c705a936e530584963288ecebc0474b4100be46dcf5a59901e30beb07"
 },
 "nbformat": 3,
 "nbformat_minor": 0,
 "worksheets": [
  {
   "cells": [
    {
     "cell_type": "code",
     "collapsed": false,
     "input": [
      "import math\n",
      "import random\n",
      "import pandas as pd\n",
      "from sklearn.metrics.pairwise import cosine_similarity\n",
      "from scipy.sparse import csr_matrix\n",
      "import logging\n",
      "from gensim import corpora, models, similarities\n",
      "from nltk.tokenize import word_tokenize\n",
      "from nltk.corpus import stopwords\n",
      "from nltk.stem.lancaster import LancasterStemmer\n",
      "\n",
      "if __name__ == \"__main__\": \n",
      "    #\u8bfb\u53d6\u6587\u4ef6\n",
      "    items = pd.read_table('u.item', header=None,sep='|')\n",
      "    item_topic=items[1].str.partition('(')[0]\n",
      "    \n",
      "    #\u5c0f\u5199\u5316\uff0c\u53bb\u505c\u7528\u8bcd\uff0c\u53bb\u6807\u70b9\u7b26\u53f7\n",
      "    texts_tokenized = [[word.lower() for word in word_tokenize(document)] for document in item_topic]  \n",
      "    english_stopwords = stopwords.words('english')\n",
      "    texts_filtered_stopwords = [[word for word in document if not word in english_stopwords] for document in texts_tokenized]\n",
      "    english_punctuations = [',', '.', ':', ';', '?', '(', ')', '[', ']', '&', '!', '*', '@', '#', '$', '%']\n",
      "    texts_filtered = [[word for word in document if not word in english_punctuations] for document in texts_filtered_stopwords]\n",
      "    \n",
      "    #\u8bcd\u5e72\u5316\n",
      "    st = LancasterStemmer()\n",
      "    texts_stemmed = [[st.stem(word) for word in docment] for docment in texts_filtered]\n",
      "    \n",
      "    #\u53bb\u6389\u8bed\u6599\u5e93\u4e2d\u7684\u4f4e\u9891\u8bcd\n",
      "    '''all_stems = sum(texts_stemmed)\n",
      "    stems_once = set(stem for stem in set(all_stems) if all_stems.count(stem) == 1)\n",
      "    texts = [[stem for stem in text if stem not in stems_once] for text in texts_stemmed]'''\n",
      "    texts=texts_stemmed\n",
      "    \n",
      "    #gensim\u9884\u5904\u7406\n",
      "    logging.basicConfig(format='%(asctime)s : %(levelname)s : %(message)s', level=logging.INFO)\n",
      "    dictionary = corpora.Dictionary(texts)\n",
      "    corpus = [dictionary.doc2bow(text) for text in texts]\n",
      "    tfidf = models.TfidfModel(corpus)\n",
      "    corpus_tfidf = tfidf[corpus]\n",
      "    \n",
      "    #\u8bad\u7ec3topic\u4e3a10\u7684LSI\u6a21\u578b\uff0c\u5efa\u7acb\u7d22\u5f15\n",
      "    lsi = models.LsiModel(corpus_tfidf, id2word=dictionary, num_topics=10) \n",
      "    index = similarities.MatrixSimilarity(lsi[corpus],num_features=10)\n",
      "    \n",
      "    #\u67e5\u8be2\u4e3e\u4f8b210,\u67e5\u8be2\u524d10\u4e2a\u6700\u76f8\u4f3c\u7684\n",
      "    ml_course = 'Four Room'\n",
      "    texts_tokenized = [word.lower() for word in word_tokenize(ml_course)]  \n",
      "    english_stopwords = stopwords.words('english')\n",
      "    texts_filtered_stopwords = [word for word in texts_tokenized if not word in english_stopwords]\n",
      "    english_punctuations = [',', '.', ':', ';', '?', '(', ')', '[', ']', '&', '!', '*', '@', '#', '$', '%']\n",
      "    texts_filtered = [word for word in texts_filtered_stopwords if not word in english_punctuations]\n",
      "    \n",
      "    #\u8bcd\u5e72\u5316\n",
      "    ml_course = [st.stem(word) for word in texts_filtered]\n",
      "    print(ml_course)\n",
      "    ml_bow = dictionary.doc2bow(ml_course)\n",
      "    print(ml_bow)\n",
      "    ml_lsi = lsi[ml_bow]\n",
      "    sims = index[ml_lsi]\n",
      "    sort_sims = sorted(enumerate(sims), key=lambda item: -item[1])\n",
      "    print(sort_sims[0:10])\n",
      "    for i in sort_sims[0:10]:\n",
      "        print(item_topic[i[0]])"
     ],
     "language": "python",
     "metadata": {},
     "outputs": [
      {
       "output_type": "stream",
       "stream": "stdout",
       "text": [
        "['four', 'room']\n",
        "[(3, 1), (4, 1)]\n",
        "[(2, 1.0), (786, 0.99157041), (212, 0.98950785), (1235, 0.98870242), (803, 0.85462785), (197, 0.83569795), (1399, 0.83055711), (1321, 0.82614499), (1143, 0.81612688), (1414, 0.81527841)]\n",
        "Four Rooms \n",
        "Roommates \n",
        "Room with a View, A \n",
        "Other Voices, Other Rooms \n",
        "Jimmy Hollywood \n",
        "Nikita \n",
        "Picture Bride \n",
        "Metisse \n",
        "Quiet Room, The \n",
        "Next Karate Kid, The \n"
       ]
      }
     ],
     "prompt_number": 14
    }
   ],
   "metadata": {}
  }
 ]
}