{
 "metadata": {
  "name": "",
  "signature": "sha256:39e49e2afbbeafbde7e3f7db8dfcd9ec17a640bc679b1d4b7d349be0a244a9dd"
 },
 "nbformat": 3,
 "nbformat_minor": 0,
 "worksheets": [
  {
   "cells": [
    {
     "cell_type": "code",
     "collapsed": false,
     "input": [
      "import easygui as gui\n",
      "import pandas as pd\n",
      "import itemS\n",
      "import biassvd\n",
      "import item_search\n",
      "\n",
      "if __name__ == \"__main__\": \n",
      "    train = pd.read_table('ml-100k/ua.base', header=None)\n",
      "    item_content=itemS.itemsim('u.item')\n",
      "    svdrec=biassvd.biassvd(train)\n",
      "    items = pd.read_table('u.item', header=None,sep='|')\n",
      "    item_srch=item_search.item_search('u.item')\n",
      "    user=gui.enterbox(\"\u4f60\u662f\uff1f\")\n",
      "    user=1\n",
      "    myrec=sorted(svdrec[user].items(),  key=lambda d:d[1], reverse = True)\n",
      "    topn=10\n",
      "    num=0\n",
      "    reclist=[]\n",
      "    msg ='\u7ed3\u679c\u5217\u8868'\n",
      "    title='\u7535\u5f71\u63a8\u8350\u7cfb\u7edf'\n",
      "    for i in myrec:\n",
      "        reclist.append(items.loc[i[0]-1][1])\n",
      "        num+=1\n",
      "        if num>topn:\n",
      "            break\n",
      "    if gui.ccbox(\"\u63a5\u4e0b\u6765?\",choices=(\"\u5411\u6211\u63a8\u8350\",\"\u81ea\u5df1\u641c\u7d22\")):\n",
      "        search=gui.choicebox(msg,title,reclist)\n",
      "    else:\n",
      "        search=gui.enterbox(\"\u641c\u7d22\u4ec0\u4e48\uff1f\")\n",
      "        reclist=item_srch.search(search)\n",
      "    while 1:                 \n",
      "        search=gui.choicebox(msg,title,reclist)\n",
      "        #print(search)\n",
      "        itemid=-1\n",
      "        for index,row in items.iterrows():\n",
      "            if row[1]==search:\n",
      "                itemid=row[0]\n",
      "        if itemid==-1:\n",
      "            break\n",
      "        #print(itemid)\n",
      "        reclist=item_content.topn(itemid)"
     ],
     "language": "python",
     "metadata": {},
     "outputs": [
      {
       "output_type": "stream",
       "stream": "stdout",
       "text": [
        "learning:\n",
        "0\n",
        "[0]"
       ]
      }
     ]
    },
    {
     "cell_type": "code",
     "collapsed": false,
     "input": [],
     "language": "python",
     "metadata": {},
     "outputs": [],
     "prompt_number": 2
    },
    {
     "cell_type": "code",
     "collapsed": false,
     "input": [],
     "language": "python",
     "metadata": {},
     "outputs": []
    }
   ],
   "metadata": {}
  }
 ]
}